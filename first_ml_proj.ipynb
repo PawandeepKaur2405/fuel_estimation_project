{
  "nbformat": 4,
  "nbformat_minor": 5,
  "metadata": {
    "colab": {
      "name": "first_ml_proj.ipynb",
      "provenance": [],
      "include_colab_link": true
    },
    "kernelspec": {
      "display_name": "Python 3",
      "language": "python",
      "name": "python3"
    },
    "language_info": {
      "codemirror_mode": {
        "name": "ipython",
        "version": 3
      },
      "file_extension": ".py",
      "mimetype": "text/x-python",
      "name": "python",
      "nbconvert_exporter": "python",
      "pygments_lexer": "ipython3",
      "version": "3.8.8"
    }
  },
  "cells": [
    {
      "cell_type": "markdown",
      "metadata": {
        "id": "view-in-github",
        "colab_type": "text"
      },
      "source": [
        "<a href=\"https://colab.research.google.com/github/PawandeepKaur2405/fuel_estimation_project/blob/main/first_ml_proj.ipynb\" target=\"_parent\"><img src=\"https://colab.research.google.com/assets/colab-badge.svg\" alt=\"Open In Colab\"/></a>"
      ]
    },
    {
      "cell_type": "markdown",
      "metadata": {
        "id": "VuOpcFBl3Dob"
      },
      "source": [
        "# Objective: \n",
        "The data concerns city-cycle fuel consumption in miles per gallon, to be predicted in terms of 3 multivalued discrete and 5 continuous attributes"
      ],
      "id": "VuOpcFBl3Dob"
    },
    {
      "cell_type": "code",
      "metadata": {
        "colab": {
          "base_uri": "https://localhost:8080/"
        },
        "id": "74884dca",
        "outputId": "f86ba352-e296-4aef-c3e7-9a2e86c37db8"
      },
      "source": [
        "# wget is used to fetch data from a URL\n",
        "!pip install wget"
      ],
      "id": "74884dca",
      "execution_count": null,
      "outputs": [
        {
          "output_type": "stream",
          "text": [
            "Requirement already satisfied: wget in /usr/local/lib/python3.7/dist-packages (3.2)\n"
          ],
          "name": "stdout"
        }
      ]
    },
    {
      "cell_type": "markdown",
      "metadata": {
        "id": "bamCxlni4pfc"
      },
      "source": [
        "If we wish to check the environment, we will be working in"
      ],
      "id": "bamCxlni4pfc"
    },
    {
      "cell_type": "code",
      "metadata": {
        "id": "e04b1e2c"
      },
      "source": [
        "# conda info"
      ],
      "id": "e04b1e2c",
      "execution_count": null,
      "outputs": []
    },
    {
      "cell_type": "code",
      "metadata": {
        "id": "7417e027"
      },
      "source": [
        "# importing necessary libraries\n",
        "import numpy as np                # It is used for mathematical operations\n",
        "import pandas as pd               # It is used for dataframe related task\n",
        "import matplotlib.pyplot as plt   # It is used for visualization purpose\n",
        "import seaborn as sns             # It is used for visualization purpose"
      ],
      "id": "7417e027",
      "execution_count": null,
      "outputs": []
    },
    {
      "cell_type": "markdown",
      "metadata": {
        "id": "klyY5mmB4OCR"
      },
      "source": [
        "Fetching data"
      ],
      "id": "klyY5mmB4OCR"
    },
    {
      "cell_type": "code",
      "metadata": {
        "colab": {
          "base_uri": "https://localhost:8080/"
        },
        "id": "_liSqfxLICP_",
        "outputId": "d26295a6-25a5-464f-d0e3-39df2c4bd487"
      },
      "source": [
        "!wget \"http://archive.ics.uci.edu/ml/machine-learning-databases/auto-mpg/auto-mpg.data\""
      ],
      "id": "_liSqfxLICP_",
      "execution_count": null,
      "outputs": [
        {
          "output_type": "stream",
          "text": [
            "--2021-08-12 12:01:12--  http://archive.ics.uci.edu/ml/machine-learning-databases/auto-mpg/auto-mpg.data\n",
            "Resolving archive.ics.uci.edu (archive.ics.uci.edu)... 128.195.10.252\n",
            "Connecting to archive.ics.uci.edu (archive.ics.uci.edu)|128.195.10.252|:80... connected.\n",
            "HTTP request sent, awaiting response... 200 OK\n",
            "Length: 30286 (30K) [application/x-httpd-php]\n",
            "Saving to: ‘auto-mpg.data’\n",
            "\n",
            "auto-mpg.data       100%[===================>]  29.58K  --.-KB/s    in 0.1s    \n",
            "\n",
            "2021-08-12 12:01:13 (229 KB/s) - ‘auto-mpg.data’ saved [30286/30286]\n",
            "\n"
          ],
          "name": "stdout"
        }
      ]
    },
    {
      "cell_type": "code",
      "metadata": {
        "id": "6c65c9f1"
      },
      "source": [
        "# defining the column names\n",
        "cols = ['MPG','Cylinders','Displacement','Horsepower','Weight', 'Acceleration', 'Model Year', 'Origin']\n",
        "\n",
        "# reading the .data file using pandas\n",
        "df = pd.read_csv('./auto-mpg.data', names=cols, na_values = \"?\", comment = '\\t', sep= \" \", skipinitialspace=True)\n",
        "\n",
        "# making a copy of the dataframe\n",
        "data = df.copy()"
      ],
      "id": "6c65c9f1",
      "execution_count": null,
      "outputs": []
    },
    {
      "cell_type": "code",
      "metadata": {
        "colab": {
          "base_uri": "https://localhost:8080/",
          "height": 204
        },
        "id": "fnGQf2fd43JD",
        "outputId": "ee9ef65b-372b-4c45-c81a-2e9aa4d0e0f9"
      },
      "source": [
        "# looking into the data\n",
        "data.head()"
      ],
      "id": "fnGQf2fd43JD",
      "execution_count": null,
      "outputs": [
        {
          "output_type": "execute_result",
          "data": {
            "text/html": [
              "<div>\n",
              "<style scoped>\n",
              "    .dataframe tbody tr th:only-of-type {\n",
              "        vertical-align: middle;\n",
              "    }\n",
              "\n",
              "    .dataframe tbody tr th {\n",
              "        vertical-align: top;\n",
              "    }\n",
              "\n",
              "    .dataframe thead th {\n",
              "        text-align: right;\n",
              "    }\n",
              "</style>\n",
              "<table border=\"1\" class=\"dataframe\">\n",
              "  <thead>\n",
              "    <tr style=\"text-align: right;\">\n",
              "      <th></th>\n",
              "      <th>MPG</th>\n",
              "      <th>Cylinders</th>\n",
              "      <th>Displacement</th>\n",
              "      <th>Horsepower</th>\n",
              "      <th>Weight</th>\n",
              "      <th>Acceleration</th>\n",
              "      <th>Model Year</th>\n",
              "      <th>Origin</th>\n",
              "    </tr>\n",
              "  </thead>\n",
              "  <tbody>\n",
              "    <tr>\n",
              "      <th>0</th>\n",
              "      <td>18.0</td>\n",
              "      <td>8</td>\n",
              "      <td>307.0</td>\n",
              "      <td>130.0</td>\n",
              "      <td>3504.0</td>\n",
              "      <td>12.0</td>\n",
              "      <td>70</td>\n",
              "      <td>1</td>\n",
              "    </tr>\n",
              "    <tr>\n",
              "      <th>1</th>\n",
              "      <td>15.0</td>\n",
              "      <td>8</td>\n",
              "      <td>350.0</td>\n",
              "      <td>165.0</td>\n",
              "      <td>3693.0</td>\n",
              "      <td>11.5</td>\n",
              "      <td>70</td>\n",
              "      <td>1</td>\n",
              "    </tr>\n",
              "    <tr>\n",
              "      <th>2</th>\n",
              "      <td>18.0</td>\n",
              "      <td>8</td>\n",
              "      <td>318.0</td>\n",
              "      <td>150.0</td>\n",
              "      <td>3436.0</td>\n",
              "      <td>11.0</td>\n",
              "      <td>70</td>\n",
              "      <td>1</td>\n",
              "    </tr>\n",
              "    <tr>\n",
              "      <th>3</th>\n",
              "      <td>16.0</td>\n",
              "      <td>8</td>\n",
              "      <td>304.0</td>\n",
              "      <td>150.0</td>\n",
              "      <td>3433.0</td>\n",
              "      <td>12.0</td>\n",
              "      <td>70</td>\n",
              "      <td>1</td>\n",
              "    </tr>\n",
              "    <tr>\n",
              "      <th>4</th>\n",
              "      <td>17.0</td>\n",
              "      <td>8</td>\n",
              "      <td>302.0</td>\n",
              "      <td>140.0</td>\n",
              "      <td>3449.0</td>\n",
              "      <td>10.5</td>\n",
              "      <td>70</td>\n",
              "      <td>1</td>\n",
              "    </tr>\n",
              "  </tbody>\n",
              "</table>\n",
              "</div>"
            ],
            "text/plain": [
              "    MPG  Cylinders  Displacement  ...  Acceleration  Model Year  Origin\n",
              "0  18.0          8         307.0  ...          12.0          70       1\n",
              "1  15.0          8         350.0  ...          11.5          70       1\n",
              "2  18.0          8         318.0  ...          11.0          70       1\n",
              "3  16.0          8         304.0  ...          12.0          70       1\n",
              "4  17.0          8         302.0  ...          10.5          70       1\n",
              "\n",
              "[5 rows x 8 columns]"
            ]
          },
          "metadata": {
            "tags": []
          },
          "execution_count": 4
        }
      ]
    },
    {
      "cell_type": "code",
      "metadata": {
        "id": "b983c013"
      },
      "source": [
        "# checking the data info\n",
        "data.info()"
      ],
      "id": "b983c013",
      "execution_count": null,
      "outputs": []
    },
    {
      "cell_type": "code",
      "metadata": {
        "colab": {
          "base_uri": "https://localhost:8080/"
        },
        "id": "2e301a83",
        "outputId": "c5bb8e0e-586f-40f7-8ea8-89b828e9d4f0"
      },
      "source": [
        "# checking for all the null values\n",
        "data.isnull().sum()"
      ],
      "id": "2e301a83",
      "execution_count": null,
      "outputs": [
        {
          "output_type": "execute_result",
          "data": {
            "text/plain": [
              "MPG             0\n",
              "Cylinders       0\n",
              "Displacement    0\n",
              "Horsepower      6\n",
              "Weight          0\n",
              "Acceleration    0\n",
              "Model Year      0\n",
              "Origin          0\n",
              "dtype: int64"
            ]
          },
          "metadata": {
            "tags": []
          },
          "execution_count": 142
        }
      ]
    },
    {
      "cell_type": "markdown",
      "metadata": {
        "id": "esS6zjDh5Cus"
      },
      "source": [
        "Here, we have 6 null values in 'Horsepower' column"
      ],
      "id": "esS6zjDh5Cus"
    },
    {
      "cell_type": "code",
      "metadata": {
        "colab": {
          "base_uri": "https://localhost:8080/",
          "height": 297
        },
        "id": "7d9ba0aa",
        "outputId": "82fa01d3-796c-4c0b-c54a-fac65fd94858"
      },
      "source": [
        "# summary statistics of quantitative variables\n",
        "data.describe()"
      ],
      "id": "7d9ba0aa",
      "execution_count": null,
      "outputs": [
        {
          "output_type": "execute_result",
          "data": {
            "text/html": [
              "<div>\n",
              "<style scoped>\n",
              "    .dataframe tbody tr th:only-of-type {\n",
              "        vertical-align: middle;\n",
              "    }\n",
              "\n",
              "    .dataframe tbody tr th {\n",
              "        vertical-align: top;\n",
              "    }\n",
              "\n",
              "    .dataframe thead th {\n",
              "        text-align: right;\n",
              "    }\n",
              "</style>\n",
              "<table border=\"1\" class=\"dataframe\">\n",
              "  <thead>\n",
              "    <tr style=\"text-align: right;\">\n",
              "      <th></th>\n",
              "      <th>MPG</th>\n",
              "      <th>Cylinders</th>\n",
              "      <th>Displacement</th>\n",
              "      <th>Horsepower</th>\n",
              "      <th>Weight</th>\n",
              "      <th>Acceleration</th>\n",
              "      <th>Model Year</th>\n",
              "      <th>Origin</th>\n",
              "    </tr>\n",
              "  </thead>\n",
              "  <tbody>\n",
              "    <tr>\n",
              "      <th>count</th>\n",
              "      <td>398.000000</td>\n",
              "      <td>398.000000</td>\n",
              "      <td>398.000000</td>\n",
              "      <td>392.000000</td>\n",
              "      <td>398.000000</td>\n",
              "      <td>398.000000</td>\n",
              "      <td>398.000000</td>\n",
              "      <td>398.000000</td>\n",
              "    </tr>\n",
              "    <tr>\n",
              "      <th>mean</th>\n",
              "      <td>23.514573</td>\n",
              "      <td>5.454774</td>\n",
              "      <td>193.425879</td>\n",
              "      <td>104.469388</td>\n",
              "      <td>2970.424623</td>\n",
              "      <td>15.568090</td>\n",
              "      <td>76.010050</td>\n",
              "      <td>1.572864</td>\n",
              "    </tr>\n",
              "    <tr>\n",
              "      <th>std</th>\n",
              "      <td>7.815984</td>\n",
              "      <td>1.701004</td>\n",
              "      <td>104.269838</td>\n",
              "      <td>38.491160</td>\n",
              "      <td>846.841774</td>\n",
              "      <td>2.757689</td>\n",
              "      <td>3.697627</td>\n",
              "      <td>0.802055</td>\n",
              "    </tr>\n",
              "    <tr>\n",
              "      <th>min</th>\n",
              "      <td>9.000000</td>\n",
              "      <td>3.000000</td>\n",
              "      <td>68.000000</td>\n",
              "      <td>46.000000</td>\n",
              "      <td>1613.000000</td>\n",
              "      <td>8.000000</td>\n",
              "      <td>70.000000</td>\n",
              "      <td>1.000000</td>\n",
              "    </tr>\n",
              "    <tr>\n",
              "      <th>25%</th>\n",
              "      <td>17.500000</td>\n",
              "      <td>4.000000</td>\n",
              "      <td>104.250000</td>\n",
              "      <td>75.000000</td>\n",
              "      <td>2223.750000</td>\n",
              "      <td>13.825000</td>\n",
              "      <td>73.000000</td>\n",
              "      <td>1.000000</td>\n",
              "    </tr>\n",
              "    <tr>\n",
              "      <th>50%</th>\n",
              "      <td>23.000000</td>\n",
              "      <td>4.000000</td>\n",
              "      <td>148.500000</td>\n",
              "      <td>93.500000</td>\n",
              "      <td>2803.500000</td>\n",
              "      <td>15.500000</td>\n",
              "      <td>76.000000</td>\n",
              "      <td>1.000000</td>\n",
              "    </tr>\n",
              "    <tr>\n",
              "      <th>75%</th>\n",
              "      <td>29.000000</td>\n",
              "      <td>8.000000</td>\n",
              "      <td>262.000000</td>\n",
              "      <td>126.000000</td>\n",
              "      <td>3608.000000</td>\n",
              "      <td>17.175000</td>\n",
              "      <td>79.000000</td>\n",
              "      <td>2.000000</td>\n",
              "    </tr>\n",
              "    <tr>\n",
              "      <th>max</th>\n",
              "      <td>46.600000</td>\n",
              "      <td>8.000000</td>\n",
              "      <td>455.000000</td>\n",
              "      <td>230.000000</td>\n",
              "      <td>5140.000000</td>\n",
              "      <td>24.800000</td>\n",
              "      <td>82.000000</td>\n",
              "      <td>3.000000</td>\n",
              "    </tr>\n",
              "  </tbody>\n",
              "</table>\n",
              "</div>"
            ],
            "text/plain": [
              "              MPG   Cylinders  ...  Model Year      Origin\n",
              "count  398.000000  398.000000  ...  398.000000  398.000000\n",
              "mean    23.514573    5.454774  ...   76.010050    1.572864\n",
              "std      7.815984    1.701004  ...    3.697627    0.802055\n",
              "min      9.000000    3.000000  ...   70.000000    1.000000\n",
              "25%     17.500000    4.000000  ...   73.000000    1.000000\n",
              "50%     23.000000    4.000000  ...   76.000000    1.000000\n",
              "75%     29.000000    8.000000  ...   79.000000    2.000000\n",
              "max     46.600000    8.000000  ...   82.000000    3.000000\n",
              "\n",
              "[8 rows x 8 columns]"
            ]
          },
          "metadata": {
            "tags": []
          },
          "execution_count": 143
        }
      ]
    },
    {
      "cell_type": "code",
      "metadata": {
        "colab": {
          "base_uri": "https://localhost:8080/",
          "height": 296
        },
        "id": "SebOTYpr5M60",
        "outputId": "a217a3f8-0a0e-48c2-ee18-beb0b46ebf63"
      },
      "source": [
        "# looking at horsepower box plot\n",
        "sns.boxplot(x=data['Horsepower'])"
      ],
      "id": "SebOTYpr5M60",
      "execution_count": null,
      "outputs": [
        {
          "output_type": "execute_result",
          "data": {
            "text/plain": [
              "<matplotlib.axes._subplots.AxesSubplot at 0x7f5cd40fe450>"
            ]
          },
          "metadata": {
            "tags": []
          },
          "execution_count": 144
        },
        {
          "output_type": "display_data",
          "data": {
            "image/png": "[encoded data removed]",
            "text/plain": [
              "<Figure size 432x288 with 1 Axes>"
            ]
          },
          "metadata": {
            "tags": []
          }
        }
      ]
    },
    {
      "cell_type": "code",
      "metadata": {
        "colab": {
          "background_save": true,
          "base_uri": "https://localhost:8080/"
        },
        "id": "13a9d43b",
        "outputId": "2792234f-f477-4316-b4a0-b3f9451402e3"
      },
      "source": [
        "# imputing the values with median\n",
        "median = data['Horsepower'].median()\n",
        "data['Horsepower'] = data['Horsepower'].fillna(median)\n",
        "data.isnull().sum()"
      ],
      "id": "13a9d43b",
      "execution_count": null,
      "outputs": [
        {
          "output_type": "execute_result",
          "data": {
            "text/plain": [
              "MPG             0\n",
              "Cylinders       0\n",
              "Displacement    0\n",
              "Horsepower      0\n",
              "Weight          0\n",
              "Acceleration    0\n",
              "Model Year      0\n",
              "Origin          0\n",
              "dtype: int64"
            ]
          },
          "metadata": {
            "tags": []
          },
          "execution_count": 0
        }
      ]
    },
    {
      "cell_type": "markdown",
      "metadata": {
        "id": "bmoR9WW75bTX"
      },
      "source": [
        "Now, all the null values has been removed"
      ],
      "id": "bmoR9WW75bTX"
    },
    {
      "cell_type": "code",
      "metadata": {
        "colab": {
          "base_uri": "https://localhost:8080/"
        },
        "id": "f8ea9071",
        "outputId": "5b62f35f-12e1-40e4-bd16-c4de6331a1bf"
      },
      "source": [
        "# category distribution\n",
        "data['Origin'].value_counts()"
      ],
      "id": "f8ea9071",
      "execution_count": null,
      "outputs": [
        {
          "output_type": "execute_result",
          "data": {
            "text/plain": [
              "1    249\n",
              "3     79\n",
              "2     70\n",
              "Name: Origin, dtype: int64"
            ]
          },
          "metadata": {
            "tags": []
          },
          "execution_count": 146
        }
      ]
    },
    {
      "cell_type": "code",
      "metadata": {
        "colab": {
          "background_save": true,
          "base_uri": "https://localhost:8080/"
        },
        "id": "798db271",
        "outputId": "c0720eca-cc99-4138-a146-3e627055f563"
      },
      "source": [
        "data[\"Cylinders\"].value_counts() / len(data)"
      ],
      "id": "798db271",
      "execution_count": null,
      "outputs": [
        {
          "output_type": "execute_result",
          "data": {
            "text/plain": [
              "4    0.512563\n",
              "8    0.258794\n",
              "6    0.211055\n",
              "3    0.010050\n",
              "5    0.007538\n",
              "Name: Cylinders, dtype: float64"
            ]
          },
          "metadata": {
            "tags": []
          },
          "execution_count": 0
        }
      ]
    },
    {
      "cell_type": "code",
      "metadata": {
        "colab": {
          "base_uri": "https://localhost:8080/",
          "height": 920
        },
        "id": "b4f1631f",
        "outputId": "b1e7c6c0-ccb3-4811-e976-329fc4d9a69b"
      },
      "source": [
        "# pairplots to get an intuition of potential correlations\n",
        "sns.pairplot(data[[\"MPG\", \"Cylinders\", \"Displacement\", \"Weight\", \"Horsepower\"]], diag_kind=\"kde\")"
      ],
      "id": "b4f1631f",
      "execution_count": null,
      "outputs": [
        {
          "output_type": "execute_result",
          "data": {
            "text/plain": [
              "<seaborn.axisgrid.PairGrid at 0x7f5cd4bbd0d0>"
            ]
          },
          "metadata": {
            "tags": []
          },
          "execution_count": 148
        },
        {
          "output_type": "display_data",
          "data": {
            "image/png": "[encoded data removed]",
            "text/plain": [
              "<Figure size 900x900 with 30 Axes>"
            ]
          },
          "metadata": {
            "tags": []
          }
        }
      ]
    },
    {
      "cell_type": "code",
      "metadata": {
        "id": "fdd26fc8"
      },
      "source": [
        "# It is used to divide our dataset into train and test data\n",
        "from sklearn.model_selection import StratifiedShuffleSplit\n",
        "\n",
        "split = StratifiedShuffleSplit(n_splits=1, test_size=0.2, random_state=42)\n",
        "for train_index, test_index in split.split(data, data[\"Cylinders\"]):\n",
        "    strat_train_set = data.loc[train_index]\n",
        "    strat_test_set = data.loc[test_index]"
      ],
      "id": "fdd26fc8",
      "execution_count": null,
      "outputs": []
    },
    {
      "cell_type": "code",
      "metadata": {
        "colab": {
          "base_uri": "https://localhost:8080/",
          "height": 204
        },
        "id": "KkfLN0lT6tEq",
        "outputId": "24b81d01-be89-4da4-c104-e3db3a1941aa"
      },
      "source": [
        "# lets look into train and test dataset\n",
        "strat_train_set.head()"
      ],
      "id": "KkfLN0lT6tEq",
      "execution_count": null,
      "outputs": [
        {
          "output_type": "execute_result",
          "data": {
            "text/html": [
              "<div>\n",
              "<style scoped>\n",
              "    .dataframe tbody tr th:only-of-type {\n",
              "        vertical-align: middle;\n",
              "    }\n",
              "\n",
              "    .dataframe tbody tr th {\n",
              "        vertical-align: top;\n",
              "    }\n",
              "\n",
              "    .dataframe thead th {\n",
              "        text-align: right;\n",
              "    }\n",
              "</style>\n",
              "<table border=\"1\" class=\"dataframe\">\n",
              "  <thead>\n",
              "    <tr style=\"text-align: right;\">\n",
              "      <th></th>\n",
              "      <th>MPG</th>\n",
              "      <th>Cylinders</th>\n",
              "      <th>Displacement</th>\n",
              "      <th>Horsepower</th>\n",
              "      <th>Weight</th>\n",
              "      <th>Acceleration</th>\n",
              "      <th>Model Year</th>\n",
              "      <th>Origin</th>\n",
              "    </tr>\n",
              "  </thead>\n",
              "  <tbody>\n",
              "    <tr>\n",
              "      <th>145</th>\n",
              "      <td>32.0</td>\n",
              "      <td>4</td>\n",
              "      <td>83.0</td>\n",
              "      <td>61.0</td>\n",
              "      <td>2003.0</td>\n",
              "      <td>19.0</td>\n",
              "      <td>74</td>\n",
              "      <td>3</td>\n",
              "    </tr>\n",
              "    <tr>\n",
              "      <th>151</th>\n",
              "      <td>31.0</td>\n",
              "      <td>4</td>\n",
              "      <td>79.0</td>\n",
              "      <td>67.0</td>\n",
              "      <td>2000.0</td>\n",
              "      <td>16.0</td>\n",
              "      <td>74</td>\n",
              "      <td>2</td>\n",
              "    </tr>\n",
              "    <tr>\n",
              "      <th>388</th>\n",
              "      <td>26.0</td>\n",
              "      <td>4</td>\n",
              "      <td>156.0</td>\n",
              "      <td>92.0</td>\n",
              "      <td>2585.0</td>\n",
              "      <td>14.5</td>\n",
              "      <td>82</td>\n",
              "      <td>1</td>\n",
              "    </tr>\n",
              "    <tr>\n",
              "      <th>48</th>\n",
              "      <td>18.0</td>\n",
              "      <td>6</td>\n",
              "      <td>250.0</td>\n",
              "      <td>88.0</td>\n",
              "      <td>3139.0</td>\n",
              "      <td>14.5</td>\n",
              "      <td>71</td>\n",
              "      <td>1</td>\n",
              "    </tr>\n",
              "    <tr>\n",
              "      <th>114</th>\n",
              "      <td>26.0</td>\n",
              "      <td>4</td>\n",
              "      <td>98.0</td>\n",
              "      <td>90.0</td>\n",
              "      <td>2265.0</td>\n",
              "      <td>15.5</td>\n",
              "      <td>73</td>\n",
              "      <td>2</td>\n",
              "    </tr>\n",
              "  </tbody>\n",
              "</table>\n",
              "</div>"
            ],
            "text/plain": [
              "      MPG  Cylinders  Displacement  ...  Acceleration  Model Year  Origin\n",
              "145  32.0          4          83.0  ...          19.0          74       3\n",
              "151  31.0          4          79.0  ...          16.0          74       2\n",
              "388  26.0          4         156.0  ...          14.5          82       1\n",
              "48   18.0          6         250.0  ...          14.5          71       1\n",
              "114  26.0          4          98.0  ...          15.5          73       2\n",
              "\n",
              "[5 rows x 8 columns]"
            ]
          },
          "metadata": {
            "tags": []
          },
          "execution_count": 150
        }
      ]
    },
    {
      "cell_type": "code",
      "metadata": {
        "colab": {
          "base_uri": "https://localhost:8080/"
        },
        "id": "8sGmMD-r6zNo",
        "outputId": "c279f38c-e7ab-4bc3-f2e2-27123e108588"
      },
      "source": [
        "strat_train_set.shape, strat_test_set.shape"
      ],
      "id": "8sGmMD-r6zNo",
      "execution_count": null,
      "outputs": [
        {
          "output_type": "execute_result",
          "data": {
            "text/plain": [
              "((318, 8), (80, 8))"
            ]
          },
          "metadata": {
            "tags": []
          },
          "execution_count": 151
        }
      ]
    },
    {
      "cell_type": "code",
      "metadata": {
        "colab": {
          "base_uri": "https://localhost:8080/"
        },
        "id": "c9c400e5",
        "outputId": "ebad49eb-9c59-43c8-a05d-aa20457b8e3f"
      },
      "source": [
        "# checking for cylinder category distribution in training set\n",
        "strat_train_set['Cylinders'].value_counts() / len(strat_train_set)"
      ],
      "id": "c9c400e5",
      "execution_count": null,
      "outputs": [
        {
          "output_type": "execute_result",
          "data": {
            "text/plain": [
              "4    0.512579\n",
              "8    0.257862\n",
              "6    0.210692\n",
              "5    0.009434\n",
              "3    0.009434\n",
              "Name: Cylinders, dtype: float64"
            ]
          },
          "metadata": {
            "tags": []
          },
          "execution_count": 152
        }
      ]
    },
    {
      "cell_type": "code",
      "metadata": {
        "colab": {
          "base_uri": "https://localhost:8080/"
        },
        "id": "fbf8954b",
        "outputId": "c150729f-bf1d-485b-c0cf-90419f6180e5"
      },
      "source": [
        "strat_test_set[\"Cylinders\"].value_counts() / len(strat_test_set)"
      ],
      "id": "fbf8954b",
      "execution_count": null,
      "outputs": [
        {
          "output_type": "execute_result",
          "data": {
            "text/plain": [
              "4    0.5125\n",
              "8    0.2625\n",
              "6    0.2125\n",
              "3    0.0125\n",
              "Name: Cylinders, dtype: float64"
            ]
          },
          "metadata": {
            "tags": []
          },
          "execution_count": 153
        }
      ]
    },
    {
      "cell_type": "code",
      "metadata": {
        "colab": {
          "base_uri": "https://localhost:8080/"
        },
        "id": "0ebfc697",
        "outputId": "f715e88d-6c78-4e26-c712-a1a1ffcedb28"
      },
      "source": [
        "# creating new features and testing new columns by checking their correlation w.r.t. MPG\n",
        "data['displacement_on_power'] = data['Displacement'] / data['Horsepower']\n",
        "data['weight_on_cylinder'] = data['Weight'] / data['Cylinders']\n",
        "data['acceleration_on_power'] = data['Acceleration'] / data['Horsepower']\n",
        "data['acceleration_on_cyl'] = data['Acceleration'] / data['Cylinders']\n",
        "\n",
        "corr_matrix = data.corr()\n",
        "corr_matrix['MPG'].sort_values(ascending=False)"
      ],
      "id": "0ebfc697",
      "execution_count": null,
      "outputs": [
        {
          "output_type": "execute_result",
          "data": {
            "text/plain": [
              "MPG                      1.000000\n",
              "acceleration_on_cyl      0.732133\n",
              "acceleration_on_power    0.704240\n",
              "Model Year               0.579267\n",
              "Origin                   0.563450\n",
              "Acceleration             0.420289\n",
              "weight_on_cylinder      -0.020778\n",
              "displacement_on_power   -0.577236\n",
              "Horsepower              -0.773453\n",
              "Cylinders               -0.775396\n",
              "Displacement            -0.804203\n",
              "Weight                  -0.831741\n",
              "Name: MPG, dtype: float64"
            ]
          },
          "metadata": {
            "tags": []
          },
          "execution_count": 156
        }
      ]
    },
    {
      "cell_type": "markdown",
      "metadata": {
        "id": "EhfwoGNx8HL5"
      },
      "source": [
        "Coorelation: \n",
        "* near +1 or -1 are strongly positively or negatively coorelated respectively\n",
        "* near 0 means poorly coorelated\n",
        "\n",
        "coorelated means if a value increases then other values will increase or decrease wrt +1 or -1 respectively."
      ],
      "id": "EhfwoGNx8HL5"
    },
    {
      "cell_type": "markdown",
      "metadata": {
        "id": "1dIn6yyT-b7Y"
      },
      "source": [
        "Below two cells are onehotencoding and simpleimputer to transform and fill null values. They are just for explanation. Haven't used them on train or test."
      ],
      "id": "1dIn6yyT-b7Y"
    },
    {
      "cell_type": "code",
      "metadata": {
        "colab": {
          "base_uri": "https://localhost:8080/"
        },
        "id": "62ce5443",
        "outputId": "d5721481-670d-47bf-f15f-b220f12be324"
      },
      "source": [
        "# onehotencoding the categorical values, it is nearly same as our originDummies() function\n",
        "from sklearn.preprocessing import OneHotEncoder\n",
        "\n",
        "cat_encoder = OneHotEncoder()\n",
        "data_cat_1hot = cat_encoder.fit_transform(data)\n",
        "\n",
        "data_cat_1hot.toarray()[:5]"
      ],
      "id": "62ce5443",
      "execution_count": null,
      "outputs": [
        {
          "output_type": "execute_result",
          "data": {
            "text/plain": [
              "array([[0., 0., 0., ..., 0., 0., 0.],\n",
              "       [0., 0., 0., ..., 0., 0., 0.],\n",
              "       [0., 0., 0., ..., 0., 0., 0.],\n",
              "       [0., 0., 0., ..., 0., 0., 0.],\n",
              "       [0., 0., 0., ..., 0., 0., 0.]])"
            ]
          },
          "metadata": {
            "tags": []
          },
          "execution_count": 157
        }
      ]
    },
    {
      "cell_type": "code",
      "metadata": {
        "colab": {
          "base_uri": "https://localhost:8080/"
        },
        "id": "e48593b2",
        "outputId": "8d7b2c1f-c898-4c5c-cf9e-f3c9c3509c88"
      },
      "source": [
        "# handling missing values, its just as we filled null values above\n",
        "from sklearn.impute import SimpleImputer\n",
        "\n",
        "imputer = SimpleImputer(strategy=\"median\")\n",
        "imputer.fit(data)"
      ],
      "id": "e48593b2",
      "execution_count": null,
      "outputs": [
        {
          "output_type": "execute_result",
          "data": {
            "text/plain": [
              "SimpleImputer(add_indicator=False, copy=True, fill_value=None,\n",
              "              missing_values=nan, strategy='median', verbose=0)"
            ]
          },
          "metadata": {
            "tags": []
          },
          "execution_count": 159
        }
      ]
    },
    {
      "cell_type": "code",
      "metadata": {
        "id": "x99bzNOuC1LX"
      },
      "source": [
        "from sklearn.svm import SVC\n",
        "from sklearn.preprocessing import StandardScaler\n",
        "from sklearn.datasets import make_classification\n",
        "from sklearn.model_selection import train_test_split\n",
        "\n",
        "# replacing all the complicated stuff with this function\n",
        "def transform_data(temp_df):\n",
        "  \n",
        "  # filling null values\n",
        "  median = temp_df['Horsepower'].median()\n",
        "  temp_df['Horsepower'] = temp_df['Horsepower'].fillna(median)\n",
        "\n",
        "  # converting origin into features\n",
        "  temp_df['Origin'] = temp_df['Origin'].map({1: 'India', 2: 'USA', 3 : 'Germany'})\n",
        "  temp_df = pd.get_dummies(temp_df, prefix='', prefix_sep='')\n",
        "\n",
        "  #creating new features\n",
        "  temp_df['displacement_on_power'] = temp_df['Displacement'] / temp_df['Horsepower']\n",
        "  temp_df['weight_on_cylinder'] = temp_df['Weight'] / temp_df['Cylinders']\n",
        "  temp_df['acceleration_on_power'] = temp_df['Acceleration'] / temp_df['Horsepower']\n",
        "  temp_df['acceleration_on_cyl'] = temp_df['Acceleration'] / temp_df['Cylinders']\n",
        "\n",
        "  # using standard scalar\n",
        "  scalar = StandardScaler()\n",
        "  temp_df = scalar.fit_transform(temp_df)\n",
        "\n",
        "  return temp_df"
      ],
      "id": "x99bzNOuC1LX",
      "execution_count": null,
      "outputs": []
    },
    {
      "cell_type": "code",
      "metadata": {
        "colab": {
          "base_uri": "https://localhost:8080/",
          "height": 120
        },
        "id": "c0918cc1",
        "outputId": "c470125a-eb59-467d-eda7-1dd20793f4c6"
      },
      "source": [
        "\"\"\"\n",
        "# now, we will try to automate all the things that we have discussed so far\n",
        "from sklearn.base import BaseEstimator, TransformerMixin\n",
        "\n",
        "acc_ix, hpower_ix, cyl_ix = 4, 2, 0\n",
        "\n",
        "# custom class inheriting the BaseEstimator and TransformerMixin\n",
        "class CustomAttrAdder(BaseEstimator, TransformerMixin):\n",
        "    def __init__(self, acc_on_power=True):\n",
        "        self.acc_on_power = acc_on_power  # new optional variable\n",
        "    def fit(self, X, y=None):\n",
        "        return self  # nothing else to do\n",
        "    def transform(self, X):\n",
        "        acc_on_cyl = X[:, acc_ix] / X[:, cyl_ix] # required new variable\n",
        "        if self.acc_on_power:\n",
        "            acc_on_power = X[:, acc_ix] / X[:, hpower_ix]\n",
        "            return np.c_[X, acc_on_power, acc_on_cyl] # returns a 2D array\n",
        "        \n",
        "        return np.c_[X, acc_on_cyl]\n",
        "    \n",
        "attr_adder = CustomAttrAdder(acc_on_power=True)\n",
        "data_tr_extra_attrs = attr_adder.transform(strat_test_set.values)\n",
        "data_tr_extra_attrs[0]\n",
        "\"\"\""
      ],
      "id": "c0918cc1",
      "execution_count": null,
      "outputs": [
        {
          "output_type": "execute_result",
          "data": {
            "application/vnd.google.colaboratory.intrinsic+json": {
              "type": "string"
            },
            "text/plain": [
              "'\\n# now, we will try to automate all the things that we have discussed so far\\nfrom sklearn.base import BaseEstimator, TransformerMixin\\n\\nacc_ix, hpower_ix, cyl_ix = 4, 2, 0\\n\\n# custom class inheriting the BaseEstimator and TransformerMixin\\nclass CustomAttrAdder(BaseEstimator, TransformerMixin):\\n    def __init__(self, acc_on_power=True):\\n        self.acc_on_power = acc_on_power  # new optional variable\\n    def fit(self, X, y=None):\\n        return self  # nothing else to do\\n    def transform(self, X):\\n        acc_on_cyl = X[:, acc_ix] / X[:, cyl_ix] # required new variable\\n        if self.acc_on_power:\\n            acc_on_power = X[:, acc_ix] / X[:, hpower_ix]\\n            return np.c_[X, acc_on_power, acc_on_cyl] # returns a 2D array\\n        \\n        return np.c_[X, acc_on_cyl]\\n    \\nattr_adder = CustomAttrAdder(acc_on_power=True)\\ndata_tr_extra_attrs = attr_adder.transform(strat_test_set.values)\\ndata_tr_extra_attrs[0]\\n'"
            ]
          },
          "metadata": {
            "tags": []
          },
          "execution_count": 161
        }
      ]
    },
    {
      "cell_type": "code",
      "metadata": {
        "colab": {
          "base_uri": "https://localhost:8080/",
          "height": 86
        },
        "id": "493ed601",
        "outputId": "7187f64a-5314-43f8-fdee-76f0ac11ffe5"
      },
      "source": [
        "\"\"\"\n",
        "from sklearn.pipeline import Pipeline\n",
        "\n",
        "def num_pipeline_transformer(data):\n",
        "    '''\n",
        "    Function to process numerical transformations\n",
        "    Argument:\n",
        "        data: original dataframe \n",
        "    Returns:\n",
        "        num_attrs: numerical dataframe\n",
        "        num_pipeline: numerical pipeline object\n",
        "        \n",
        "    '''\n",
        "    numerics = ['float64', 'int64']\n",
        "\n",
        "    num_attrs = data.select_dtypes(include=numerics)\n",
        "\n",
        "    num_pipeline = Pipeline([\n",
        "        ('imputer', SimpleImputer(strategy=\"median\")),\n",
        "        ('attrs_adder', CustomAttrAdder()),\n",
        "        ('std_scaler', StandardScaler()),\n",
        "        ])\n",
        "    return num_attrs, num_pipeline\n",
        "\"\"\""
      ],
      "id": "493ed601",
      "execution_count": null,
      "outputs": [
        {
          "output_type": "execute_result",
          "data": {
            "application/vnd.google.colaboratory.intrinsic+json": {
              "type": "string"
            },
            "text/plain": [
              "'\\nfrom sklearn.pipeline import Pipeline\\n\\ndef num_pipeline_transformer(data):\\n    \\'\\'\\'\\n    Function to process numerical transformations\\n    Argument:\\n        data: original dataframe \\n    Returns:\\n        num_attrs: numerical dataframe\\n        num_pipeline: numerical pipeline object\\n        \\n    \\'\\'\\'\\n    numerics = [\\'float64\\', \\'int64\\']\\n\\n    num_attrs = data.select_dtypes(include=numerics)\\n\\n    num_pipeline = Pipeline([\\n        (\\'imputer\\', SimpleImputer(strategy=\"median\")),\\n        (\\'attrs_adder\\', CustomAttrAdder()),\\n        (\\'std_scaler\\', StandardScaler()),\\n        ])\\n    return num_attrs, num_pipeline\\n'"
            ]
          },
          "metadata": {
            "tags": []
          },
          "execution_count": 162
        }
      ]
    },
    {
      "cell_type": "code",
      "metadata": {
        "colab": {
          "base_uri": "https://localhost:8080/",
          "height": 103
        },
        "id": "412518f8",
        "outputId": "244e65f2-77a5-4a72-891e-4e9a888c69a5"
      },
      "source": [
        "\"\"\"\n",
        "from sklearn.compose import ColumnTransformer\n",
        "from sklearn.preprocessing import Normalizer\n",
        "\n",
        "def pipeline_transformer(data):\n",
        "    '''\n",
        "    Complete transformation pipeline for both\n",
        "    nuerical and categorical data.\n",
        "    \n",
        "    Argument:\n",
        "        data: original dataframe \n",
        "    Returns:\n",
        "        prepared_data: transformed data, ready to use\n",
        "    '''\n",
        "    cat_attrs = [\"Origin\"]\n",
        "    num_attrs, num_pipeline = num_pipeline_transformer(data)\n",
        "    full_pipeline = ColumnTransformer([\n",
        "        (\"num\", num_pipeline, list(num_attrs)),\n",
        "        (\"cat\", OneHotEncoder(), cat_attrs),\n",
        "        ])\n",
        "    prepared_data = full_pipeline.fit_transform(data)\n",
        "    return prepared_data\n",
        "  \"\"\""
      ],
      "id": "412518f8",
      "execution_count": null,
      "outputs": [
        {
          "output_type": "execute_result",
          "data": {
            "application/vnd.google.colaboratory.intrinsic+json": {
              "type": "string"
            },
            "text/plain": [
              "'\\nfrom sklearn.compose import ColumnTransformer\\nfrom sklearn.preprocessing import Normalizer\\n\\ndef pipeline_transformer(data):\\n    \\'\\'\\'\\n    Complete transformation pipeline for both\\n    nuerical and categorical data.\\n    \\n    Argument:\\n        data: original dataframe \\n    Returns:\\n        prepared_data: transformed data, ready to use\\n    \\'\\'\\'\\n    cat_attrs = [\"Origin\"]\\n    num_attrs, num_pipeline = num_pipeline_transformer(data)\\n    full_pipeline = ColumnTransformer([\\n        (\"num\", num_pipeline, list(num_attrs)),\\n        (\"cat\", OneHotEncoder(), cat_attrs),\\n        ])\\n    prepared_data = full_pipeline.fit_transform(data)\\n    return prepared_data\\n  '"
            ]
          },
          "metadata": {
            "tags": []
          },
          "execution_count": 163
        }
      ]
    },
    {
      "cell_type": "code",
      "metadata": {
        "colab": {
          "base_uri": "https://localhost:8080/",
          "height": 52
        },
        "id": "813c0d16",
        "outputId": "9ba76a4c-4d7b-4005-80b5-957fe640eb44"
      },
      "source": [
        "\"\"\"\n",
        "##from raw data to processed data in 2 steps\n",
        "preprocessed_df = preprocess_origin_cols(data)\n",
        "preprocessed_df = pd.get_dummies(preprocessed_df, prefix='', prefix_sep='')\n",
        "prepared_data = pipeline_transformer(preprocessed_df)\n",
        "prepared_data\n",
        "\"\"\""
      ],
      "id": "813c0d16",
      "execution_count": null,
      "outputs": [
        {
          "output_type": "execute_result",
          "data": {
            "application/vnd.google.colaboratory.intrinsic+json": {
              "type": "string"
            },
            "text/plain": [
              "\"\\n##from raw data to processed data in 2 steps\\npreprocessed_df = preprocess_origin_cols(data)\\npreprocessed_df = pd.get_dummies(preprocessed_df, prefix='', prefix_sep='')\\nprepared_data = pipeline_transformer(preprocessed_df)\\nprepared_data\\n\""
            ]
          },
          "metadata": {
            "tags": []
          },
          "execution_count": 164
        }
      ]
    },
    {
      "cell_type": "code",
      "metadata": {
        "colab": {
          "base_uri": "https://localhost:8080/"
        },
        "id": "883349b8",
        "outputId": "a2991e53-ce02-44d5-b867-dce9565463eb"
      },
      "source": [
        "x = df.drop(\"MPG\",axis=1)\n",
        "y = df[\"MPG\"]\n",
        "x_train, x_test, y_train, y_test = train_test_split(x, y, test_size=0.33, random_state=42)\n",
        "x_train = transform_data(x_train)\n",
        "x_test = transform_data(x_test)"
      ],
      "id": "883349b8",
      "execution_count": null,
      "outputs": [
        {
          "output_type": "stream",
          "text": [
            "/usr/local/lib/python3.7/dist-packages/ipykernel_launcher.py:11: SettingWithCopyWarning: \n",
            "A value is trying to be set on a copy of a slice from a DataFrame.\n",
            "Try using .loc[row_indexer,col_indexer] = value instead\n",
            "\n",
            "See the caveats in the documentation: https://pandas.pydata.org/pandas-docs/stable/user_guide/indexing.html#returning-a-view-versus-a-copy\n",
            "  # This is added back by InteractiveShellApp.init_path()\n",
            "/usr/local/lib/python3.7/dist-packages/ipykernel_launcher.py:14: SettingWithCopyWarning: \n",
            "A value is trying to be set on a copy of a slice from a DataFrame.\n",
            "Try using .loc[row_indexer,col_indexer] = value instead\n",
            "\n",
            "See the caveats in the documentation: https://pandas.pydata.org/pandas-docs/stable/user_guide/indexing.html#returning-a-view-versus-a-copy\n",
            "  \n",
            "/usr/local/lib/python3.7/dist-packages/ipykernel_launcher.py:11: SettingWithCopyWarning: \n",
            "A value is trying to be set on a copy of a slice from a DataFrame.\n",
            "Try using .loc[row_indexer,col_indexer] = value instead\n",
            "\n",
            "See the caveats in the documentation: https://pandas.pydata.org/pandas-docs/stable/user_guide/indexing.html#returning-a-view-versus-a-copy\n",
            "  # This is added back by InteractiveShellApp.init_path()\n",
            "/usr/local/lib/python3.7/dist-packages/ipykernel_launcher.py:14: SettingWithCopyWarning: \n",
            "A value is trying to be set on a copy of a slice from a DataFrame.\n",
            "Try using .loc[row_indexer,col_indexer] = value instead\n",
            "\n",
            "See the caveats in the documentation: https://pandas.pydata.org/pandas-docs/stable/user_guide/indexing.html#returning-a-view-versus-a-copy\n",
            "  \n"
          ],
          "name": "stderr"
        }
      ]
    },
    {
      "cell_type": "code",
      "metadata": {
        "colab": {
          "base_uri": "https://localhost:8080/"
        },
        "id": "0640788e",
        "outputId": "de38f64b-3db3-487f-d855-fd1accffb4f2"
      },
      "source": [
        "from sklearn.linear_model import LinearRegression\n",
        "\n",
        "lin_reg = LinearRegression()\n",
        "lin_reg.fit(x_train, y_train)\n",
        "\n",
        "##testing the predictions with first 5 rows\n",
        "# sample_data = data.iloc[:5]\n",
        "# sample_labels = preprocessed_df.iloc[:5]\n",
        "# sample_data_prepared = pipeline_transformer(sample_data)\n",
        "\n",
        "# strat_test_set = preprocess_origin_cols(strat_test_set)\n",
        "# strat_test_set = pd.get_dummies(strat_test_set, prefix='', prefix_sep='')\n",
        "# sample_data_prepared = strat_test_set.drop(\"MPG\",axis=1)\n",
        "print(\"Prediction of samples: \", lin_reg.predict(x_test))"
      ],
      "id": "0640788e",
      "execution_count": null,
      "outputs": [
        {
          "output_type": "stream",
          "text": [
            "Prediction of samples:  [33.92640933 27.82783362 18.15693706 15.85981339 12.38179657 26.31890745\n",
            " 25.22005727 13.31759611 14.18686689 19.04416208 13.94357035 36.0505226\n",
            " 26.2495731  13.28065456 21.94200234 10.60201638 28.3494914  23.8384658\n",
            " 17.12701275 36.04459195 22.88186475 16.59999689 25.44955596 28.92287114\n",
            " 12.52203691 36.84152901 25.79438589 22.24950471 19.7254864  11.66257846\n",
            " 25.95754042 35.13766832 15.93502759 24.40661938 34.52192788 14.79360601\n",
            " 21.51407479 18.61205649 13.2399679  27.12134306 25.02616183 29.21453078\n",
            " 18.89695776  9.49712408 22.56001245 32.93756279 26.68600042 23.24550872\n",
            " 22.16392027 28.702028   20.76537515 34.04682021 31.23188838 12.37734931\n",
            " 26.51389381 11.7873026  18.06422318 26.7320286  21.69210099 17.86169236\n",
            " 15.41857112 33.19174421 21.82040179 18.80942197 18.45210278 24.19569982\n",
            " 22.03764188 32.95575412 29.07917219 11.86716044 31.32898546 12.74628976\n",
            " 12.32429061 16.54460181 25.27083114 17.70570018 18.09300438 27.7560535\n",
            " 30.91442301 17.2924521  13.10027093 24.74025577 35.63991443 34.77570824\n",
            " 23.4911121  12.52862168 35.21790831 30.61431915 25.50150504 12.42433937\n",
            " 16.49886442 26.65151609 26.59063499 34.86350549 23.01820365 32.75830201\n",
            " 28.13547324 21.34111189 23.95117447 12.214815   32.45823646 24.42171099\n",
            " 16.85374888 14.20204412 16.83166492 13.21623912 30.07903659 11.89830585\n",
            " 32.78130753 35.81154265 32.33062865 26.43573539 18.24365711 36.07655754\n",
            " 25.3046434  20.99584994 26.61508939 20.58171501 32.45062384 21.91908691\n",
            " 13.3752661  22.3232126  17.29941183 20.65845692 17.36322737 27.39467546\n",
            " 35.13001709 24.26087783 32.87509963 28.7723813  35.31113446 30.76519852]\n"
          ],
          "name": "stdout"
        }
      ]
    },
    {
      "cell_type": "code",
      "metadata": {
        "colab": {
          "base_uri": "https://localhost:8080/"
        },
        "id": "738bf392",
        "outputId": "448a3557-868e-470b-afdd-e019b8d587b5"
      },
      "source": [
        "from sklearn.metrics import mean_squared_error\n",
        "\n",
        "predictions = lin_reg.predict(x_test)\n",
        "lin_mse = mean_squared_error(y_test, predictions)\n",
        "lin_rmse = np.sqrt(lin_mse)\n",
        "lin_rmse"
      ],
      "id": "738bf392",
      "execution_count": null,
      "outputs": [
        {
          "output_type": "execute_result",
          "data": {
            "text/plain": [
              "2.622218804875837"
            ]
          },
          "metadata": {
            "tags": []
          },
          "execution_count": 172
        }
      ]
    },
    {
      "cell_type": "code",
      "metadata": {
        "id": "451c620a"
      },
      "source": [
        ""
      ],
      "id": "451c620a",
      "execution_count": null,
      "outputs": []
    }
  ]
}